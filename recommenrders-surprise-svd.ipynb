{
 "cells": [
  {
   "cell_type": "code",
   "execution_count": 3,
   "metadata": {},
   "outputs": [],
   "source": [
    "from datetime import datetime\n",
    "import pandas as pd\n",
    "import surprise\n",
    "\n",
    "from recommenders.datasets.python_splitters import python_random_split\n",
    "from recommenders.evaluation.python_evaluation import (\n",
    "    rmse,\n",
    "    mae,\n",
    "    rsquared,\n",
    "    exp_var,\n",
    ")\n",
    "from recommenders.models.surprise.surprise_utils import predict"
   ]
  },
  {
   "cell_type": "code",
   "execution_count": 4,
   "metadata": {},
   "outputs": [],
   "source": [
    "ratings = pd.read_json(\"ratings.jsonl\", lines=True)\n",
    "ratings = ratings[[\"UserId\", \"ItemId\", \"Rating\"]]\n",
    "content = pd.read_json(\"content.jsonl\", lines=True)\n",
    "\n",
    "user_indexes = {user_id: index for index, user_id in enumerate(ratings[\"UserId\"].unique())}\n",
    "reversed_user_indexes = {index: user_id for user_id, index in user_indexes.items()}\n",
    "item_indexes = {item_id: index for index, item_id in enumerate(content[\"ItemId\"].unique())}\n",
    "reversed_item_indexes = {index: item_id for item_id, index in item_indexes.items()}\n",
    "\n",
    "ratings = ratings.assign(UserIndex=ratings[\"UserId\"].map(user_indexes))\n",
    "ratings = ratings.assign(ItemIndex=ratings[\"ItemId\"].map(item_indexes))"
   ]
  },
  {
   "cell_type": "code",
   "execution_count": 5,
   "metadata": {},
   "outputs": [],
   "source": [
    "train, test = python_random_split(ratings, 0.75)"
   ]
  },
  {
   "cell_type": "code",
   "execution_count": 6,
   "metadata": {},
   "outputs": [
    {
     "data": {
      "text/plain": [
       "<surprise.trainset.Trainset at 0x104a44040>"
      ]
     },
     "execution_count": 6,
     "metadata": {},
     "output_type": "execute_result"
    }
   ],
   "source": [
    "train_set = surprise.Dataset.load_from_df(\n",
    "    train[[\"UserIndex\", \"ItemIndex\", \"Rating\"]],\n",
    "    reader=surprise.Reader(rating_scale=(1, 10)),\n",
    "    ).build_full_trainset()\n",
    "train_set"
   ]
  },
  {
   "cell_type": "code",
   "execution_count": 7,
   "metadata": {},
   "outputs": [
    {
     "data": {
      "text/plain": [
       "<surprise.prediction_algorithms.matrix_factorization.SVD at 0x13f88eec0>"
      ]
     },
     "execution_count": 7,
     "metadata": {},
     "output_type": "execute_result"
    }
   ],
   "source": [
    "svd = surprise.SVD(n_factors=100, n_epochs=10, lr_all=0.005, reg_all=0.02)\n",
    "svd.fit(train_set)"
   ]
  },
  {
   "cell_type": "code",
   "execution_count": 8,
   "metadata": {},
   "outputs": [
    {
     "data": {
      "text/html": [
       "<div>\n",
       "<style scoped>\n",
       "    .dataframe tbody tr th:only-of-type {\n",
       "        vertical-align: middle;\n",
       "    }\n",
       "\n",
       "    .dataframe tbody tr th {\n",
       "        vertical-align: top;\n",
       "    }\n",
       "\n",
       "    .dataframe thead th {\n",
       "        text-align: right;\n",
       "    }\n",
       "</style>\n",
       "<table border=\"1\" class=\"dataframe\">\n",
       "  <thead>\n",
       "    <tr style=\"text-align: right;\">\n",
       "      <th></th>\n",
       "      <th>UserIndex</th>\n",
       "      <th>ItemIndex</th>\n",
       "      <th>prediction</th>\n",
       "    </tr>\n",
       "  </thead>\n",
       "  <tbody>\n",
       "    <tr>\n",
       "      <th>0</th>\n",
       "      <td>24459</td>\n",
       "      <td>19299</td>\n",
       "      <td>4.460061</td>\n",
       "    </tr>\n",
       "    <tr>\n",
       "      <th>1</th>\n",
       "      <td>5767</td>\n",
       "      <td>23922</td>\n",
       "      <td>6.940709</td>\n",
       "    </tr>\n",
       "    <tr>\n",
       "      <th>2</th>\n",
       "      <td>51409</td>\n",
       "      <td>25866</td>\n",
       "      <td>6.736967</td>\n",
       "    </tr>\n",
       "    <tr>\n",
       "      <th>3</th>\n",
       "      <td>2693</td>\n",
       "      <td>22257</td>\n",
       "      <td>6.429496</td>\n",
       "    </tr>\n",
       "    <tr>\n",
       "      <th>4</th>\n",
       "      <td>19816</td>\n",
       "      <td>13500</td>\n",
       "      <td>8.249172</td>\n",
       "    </tr>\n",
       "    <tr>\n",
       "      <th>...</th>\n",
       "      <td>...</td>\n",
       "      <td>...</td>\n",
       "      <td>...</td>\n",
       "    </tr>\n",
       "    <tr>\n",
       "      <th>164925</th>\n",
       "      <td>12047</td>\n",
       "      <td>24523</td>\n",
       "      <td>6.674327</td>\n",
       "    </tr>\n",
       "    <tr>\n",
       "      <th>164926</th>\n",
       "      <td>13505</td>\n",
       "      <td>10096</td>\n",
       "      <td>7.266627</td>\n",
       "    </tr>\n",
       "    <tr>\n",
       "      <th>164927</th>\n",
       "      <td>6165</td>\n",
       "      <td>24790</td>\n",
       "      <td>7.430336</td>\n",
       "    </tr>\n",
       "    <tr>\n",
       "      <th>164928</th>\n",
       "      <td>16119</td>\n",
       "      <td>19161</td>\n",
       "      <td>5.203542</td>\n",
       "    </tr>\n",
       "    <tr>\n",
       "      <th>164929</th>\n",
       "      <td>6217</td>\n",
       "      <td>24702</td>\n",
       "      <td>8.062369</td>\n",
       "    </tr>\n",
       "  </tbody>\n",
       "</table>\n",
       "<p>164930 rows × 3 columns</p>\n",
       "</div>"
      ],
      "text/plain": [
       "        UserIndex  ItemIndex  prediction\n",
       "0           24459      19299    4.460061\n",
       "1            5767      23922    6.940709\n",
       "2           51409      25866    6.736967\n",
       "3            2693      22257    6.429496\n",
       "4           19816      13500    8.249172\n",
       "...           ...        ...         ...\n",
       "164925      12047      24523    6.674327\n",
       "164926      13505      10096    7.266627\n",
       "164927       6165      24790    7.430336\n",
       "164928      16119      19161    5.203542\n",
       "164929       6217      24702    8.062369\n",
       "\n",
       "[164930 rows x 3 columns]"
      ]
     },
     "execution_count": 8,
     "metadata": {},
     "output_type": "execute_result"
    }
   ],
   "source": [
    "predictions = predict(svd, test, usercol=\"UserIndex\", itemcol=\"ItemIndex\")\n",
    "predictions"
   ]
  },
  {
   "cell_type": "code",
   "execution_count": 9,
   "metadata": {},
   "outputs": [
    {
     "name": "stdout",
     "output_type": "stream",
     "text": [
      "RMSE: 1.500394164952067\n",
      "MAE: 1.0994929532634332\n",
      "R^2: 0.3473552565839232\n",
      "Explained variance: 0.34744869406063583\n"
     ]
    }
   ],
   "source": [
    "eval_rmse = rmse(rating_true=test, rating_pred=predictions, col_user=\"UserIndex\", col_item=\"ItemIndex\", col_rating=\"Rating\")\n",
    "eval_mae = mae(rating_true=test, rating_pred=predictions, col_user=\"UserIndex\", col_item=\"ItemIndex\", col_rating=\"Rating\")\n",
    "eval_rsquared = rsquared(rating_true=test, rating_pred=predictions, col_user=\"UserIndex\", col_item=\"ItemIndex\", col_rating=\"Rating\")\n",
    "eval_exp_var = exp_var(rating_true=test, rating_pred=predictions, col_user=\"UserIndex\", col_item=\"ItemIndex\", col_rating=\"Rating\")\n",
    "\n",
    "print(f\"RMSE: {eval_rmse}\")\n",
    "print(f\"MAE: {eval_mae}\")\n",
    "print(f\"R^2: {eval_rsquared}\")\n",
    "print(f\"Explained variance: {eval_exp_var}\")"
   ]
  },
  {
   "cell_type": "code",
   "execution_count": 10,
   "metadata": {},
   "outputs": [
    {
     "data": {
      "text/html": [
       "<div>\n",
       "<style scoped>\n",
       "    .dataframe tbody tr th:only-of-type {\n",
       "        vertical-align: middle;\n",
       "    }\n",
       "\n",
       "    .dataframe tbody tr th {\n",
       "        vertical-align: top;\n",
       "    }\n",
       "\n",
       "    .dataframe thead th {\n",
       "        text-align: right;\n",
       "    }\n",
       "</style>\n",
       "<table border=\"1\" class=\"dataframe\">\n",
       "  <thead>\n",
       "    <tr style=\"text-align: right;\">\n",
       "      <th></th>\n",
       "      <th>UserId</th>\n",
       "      <th>ItemId</th>\n",
       "      <th>UserIndex</th>\n",
       "      <th>ItemIndex</th>\n",
       "    </tr>\n",
       "  </thead>\n",
       "  <tbody>\n",
       "    <tr>\n",
       "      <th>0</th>\n",
       "      <td>0006246bee</td>\n",
       "      <td>01d2404d4c</td>\n",
       "      <td>31471</td>\n",
       "      <td>21530</td>\n",
       "    </tr>\n",
       "    <tr>\n",
       "      <th>1</th>\n",
       "      <td>0006246bee</td>\n",
       "      <td>03d43fdf92</td>\n",
       "      <td>31471</td>\n",
       "      <td>5449</td>\n",
       "    </tr>\n",
       "    <tr>\n",
       "      <th>2</th>\n",
       "      <td>0006246bee</td>\n",
       "      <td>0808a9666b</td>\n",
       "      <td>31471</td>\n",
       "      <td>24104</td>\n",
       "    </tr>\n",
       "    <tr>\n",
       "      <th>3</th>\n",
       "      <td>0006246bee</td>\n",
       "      <td>0a5d7dd6f6</td>\n",
       "      <td>31471</td>\n",
       "      <td>26480</td>\n",
       "    </tr>\n",
       "    <tr>\n",
       "      <th>4</th>\n",
       "      <td>0006246bee</td>\n",
       "      <td>0bab4a8104</td>\n",
       "      <td>31471</td>\n",
       "      <td>32061</td>\n",
       "    </tr>\n",
       "    <tr>\n",
       "      <th>...</th>\n",
       "      <td>...</td>\n",
       "      <td>...</td>\n",
       "      <td>...</td>\n",
       "      <td>...</td>\n",
       "    </tr>\n",
       "    <tr>\n",
       "      <th>616195</th>\n",
       "      <td>fffffe98d0</td>\n",
       "      <td>f6e4113a95</td>\n",
       "      <td>29367</td>\n",
       "      <td>35855</td>\n",
       "    </tr>\n",
       "    <tr>\n",
       "      <th>616196</th>\n",
       "      <td>fffffe98d0</td>\n",
       "      <td>f8cc22edf7</td>\n",
       "      <td>29367</td>\n",
       "      <td>17530</td>\n",
       "    </tr>\n",
       "    <tr>\n",
       "      <th>616197</th>\n",
       "      <td>fffffe98d0</td>\n",
       "      <td>fa71aa74e9</td>\n",
       "      <td>29367</td>\n",
       "      <td>1540</td>\n",
       "    </tr>\n",
       "    <tr>\n",
       "      <th>616198</th>\n",
       "      <td>fffffe98d0</td>\n",
       "      <td>fca8263961</td>\n",
       "      <td>29367</td>\n",
       "      <td>19908</td>\n",
       "    </tr>\n",
       "    <tr>\n",
       "      <th>616199</th>\n",
       "      <td>fffffe98d0</td>\n",
       "      <td>ff0e62e1d2</td>\n",
       "      <td>29367</td>\n",
       "      <td>18548</td>\n",
       "    </tr>\n",
       "  </tbody>\n",
       "</table>\n",
       "<p>616200 rows × 4 columns</p>\n",
       "</div>"
      ],
      "text/plain": [
       "            UserId      ItemId  UserIndex  ItemIndex\n",
       "0       0006246bee  01d2404d4c      31471      21530\n",
       "1       0006246bee  03d43fdf92      31471       5449\n",
       "2       0006246bee  0808a9666b      31471      24104\n",
       "3       0006246bee  0a5d7dd6f6      31471      26480\n",
       "4       0006246bee  0bab4a8104      31471      32061\n",
       "...            ...         ...        ...        ...\n",
       "616195  fffffe98d0  f6e4113a95      29367      35855\n",
       "616196  fffffe98d0  f8cc22edf7      29367      17530\n",
       "616197  fffffe98d0  fa71aa74e9      29367       1540\n",
       "616198  fffffe98d0  fca8263961      29367      19908\n",
       "616199  fffffe98d0  ff0e62e1d2      29367      18548\n",
       "\n",
       "[616200 rows x 4 columns]"
      ]
     },
     "execution_count": 10,
     "metadata": {},
     "output_type": "execute_result"
    }
   ],
   "source": [
    "targets = pd.read_csv(\"targets.csv\")\n",
    "targets = targets.assign(UserIndex=targets[\"UserId\"].map(user_indexes))\n",
    "targets = targets.assign(ItemIndex=targets[\"ItemId\"].map(item_indexes))\n",
    "targets"
   ]
  },
  {
   "cell_type": "code",
   "execution_count": 11,
   "metadata": {},
   "outputs": [
    {
     "name": "stdout",
     "output_type": "stream",
     "text": [
      "   UserIndex  ItemIndex  prediction      UserId      ItemId\n",
      "0      31471      21530    6.815429  0006246bee  01d2404d4c\n",
      "1      31471       5449    6.803461  0006246bee  03d43fdf92\n",
      "2      31471      24104    6.726115  0006246bee  0808a9666b\n",
      "3      31471      26480    7.113631  0006246bee  0a5d7dd6f6\n",
      "4      31471      32061    6.488101  0006246bee  0bab4a8104\n"
     ]
    }
   ],
   "source": [
    "predict_df = predict(svd, targets, usercol=\"UserIndex\", itemcol=\"ItemIndex\")\n",
    "predict_df = predict_df.assign(UserId=predict_df[\"UserIndex\"].map(reversed_user_indexes))\n",
    "predict_df = predict_df.assign(ItemId=predict_df[\"ItemIndex\"].map(reversed_item_indexes))\n",
    "print(predict_df.head())"
   ]
  },
  {
   "cell_type": "code",
   "execution_count": 12,
   "metadata": {},
   "outputs": [],
   "source": [
    "predict_df = predict_df.sort_values(by=[\"UserId\", \"prediction\"], ascending=[True, False])\n",
    "predict_df[[\"UserId\", \"ItemId\"]].to_csv(f'./submissions/surprise-svd-submission_{datetime.now().strftime(\"%Y%m%d_%H%M%S\")}.csv', index=False)"
   ]
  }
 ],
 "metadata": {
  "kernelspec": {
   "display_name": "recsys",
   "language": "python",
   "name": "python3"
  },
  "language_info": {
   "codemirror_mode": {
    "name": "ipython",
    "version": 3
   },
   "file_extension": ".py",
   "mimetype": "text/x-python",
   "name": "python",
   "nbconvert_exporter": "python",
   "pygments_lexer": "ipython3",
   "version": "3.10.13"
  }
 },
 "nbformat": 4,
 "nbformat_minor": 2
}
