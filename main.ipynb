{
 "cells": [
  {
   "cell_type": "code",
   "execution_count": 1,
   "metadata": {},
   "outputs": [
    {
     "name": "stderr",
     "output_type": "stream",
     "text": [
      "/opt/homebrew/Caskroom/miniconda/base/envs/recsys/lib/python3.10/site-packages/lightfm/_lightfm_fast.py:9: UserWarning: LightFM was compiled without OpenMP support. Only a single thread will be used.\n",
      "  warnings.warn(\n"
     ]
    }
   ],
   "source": [
    "from datetime import datetime\n",
    "import pandas as pd\n",
    "from lightfm import LightFM\n",
    "from lightfm.data import Dataset"
   ]
  },
  {
   "cell_type": "code",
   "execution_count": 2,
   "metadata": {},
   "outputs": [
    {
     "name": "stdout",
     "output_type": "stream",
     "text": [
      "Ratings columns: Index(['UserId', 'ItemId', 'Rating'], dtype='object')\n",
      "Content columns: Index(['ItemId', 'Title', 'Year', 'Rated', 'Released', 'Runtime', 'Genre',\n",
      "       'Director', 'Writer', 'Actors', 'Plot', 'Language', 'Country', 'Awards',\n",
      "       'Poster', 'Ratings', 'Metascore', 'imdbRating', 'imdbVotes', 'Type',\n",
      "       'DVD', 'BoxOffice', 'Production', 'Website', 'Response', 'totalSeasons',\n",
      "       'Season', 'Episode', 'seriesID', 'combined'],\n",
      "      dtype='object')\n"
     ]
    }
   ],
   "source": [
    "ratings = pd.read_json(\"ratings.jsonl\", lines=True)\n",
    "ratings = ratings[[\"UserId\", \"ItemId\", \"Rating\"]]\n",
    "content = pd.read_json(\"content.jsonl\", lines=True)\n",
    "features_to_combine = ['Title', 'Genre', 'Director', 'Actors', 'Plot']\n",
    "content['combined'] = content[features_to_combine].apply(lambda row: ' '.join(row.values.astype(str)), axis=1)\n",
    "\n",
    "print(\"Ratings columns:\", ratings.columns)\n",
    "print(\"Content columns:\", content.columns)"
   ]
  },
  {
   "cell_type": "code",
   "execution_count": 3,
   "metadata": {},
   "outputs": [],
   "source": [
    "user_indexes = {user_id: index for index, user_id in enumerate(ratings[\"UserId\"].unique())}\n",
    "item_indexes = {item_id: index for index, item_id in enumerate(content[\"ItemId\"].unique())}\n",
    "\n",
    "ratings = ratings.assign(UserIndex=ratings[\"UserId\"].map(user_indexes))\n",
    "ratings = ratings.assign(ItemIndex=ratings[\"ItemId\"].map(item_indexes))\n",
    "content = content.assign(ItemIndex=content[\"ItemId\"].map(item_indexes))"
   ]
  },
  {
   "cell_type": "code",
   "execution_count": 4,
   "metadata": {},
   "outputs": [],
   "source": [
    "dataset = Dataset()\n",
    "dataset.fit(\n",
    "    users=ratings[\"UserIndex\"].unique(), \n",
    "    items=content[\"ItemIndex\"].unique()\n",
    ")\n",
    "\n",
    "dataset.fit_partial(\n",
    "    item_features=content[\"combined\"].unique()\n",
    ")\n",
    "\n",
    "(interactions_matrix, _) = dataset.build_interactions(\n",
    "    [(row[\"UserIndex\"], row[\"ItemIndex\"], row[\"Rating\"]) for index, row in ratings.iterrows()]\n",
    ")\n",
    "\n",
    "item_features = dataset.build_item_features(\n",
    "    [(row[\"ItemIndex\"], [row[\"combined\"]]) for index, row in content.iterrows()]\n",
    ")"
   ]
  },
  {
   "cell_type": "code",
   "execution_count": 5,
   "metadata": {},
   "outputs": [
    {
     "data": {
      "text/plain": [
       "<lightfm.lightfm.LightFM at 0x14ccdec80>"
      ]
     },
     "execution_count": 5,
     "metadata": {},
     "output_type": "execute_result"
    }
   ],
   "source": [
    "model = LightFM(loss='warp')\n",
    "\n",
    "model.fit(interactions_matrix, item_features=item_features, epochs=30, num_threads=8)"
   ]
  },
  {
   "cell_type": "code",
   "execution_count": 6,
   "metadata": {},
   "outputs": [
    {
     "data": {
      "text/html": [
       "<div>\n",
       "<style scoped>\n",
       "    .dataframe tbody tr th:only-of-type {\n",
       "        vertical-align: middle;\n",
       "    }\n",
       "\n",
       "    .dataframe tbody tr th {\n",
       "        vertical-align: top;\n",
       "    }\n",
       "\n",
       "    .dataframe thead th {\n",
       "        text-align: right;\n",
       "    }\n",
       "</style>\n",
       "<table border=\"1\" class=\"dataframe\">\n",
       "  <thead>\n",
       "    <tr style=\"text-align: right;\">\n",
       "      <th></th>\n",
       "      <th>UserId</th>\n",
       "      <th>ItemId</th>\n",
       "      <th>UserIndex</th>\n",
       "      <th>ItemIndex</th>\n",
       "    </tr>\n",
       "  </thead>\n",
       "  <tbody>\n",
       "    <tr>\n",
       "      <th>0</th>\n",
       "      <td>0006246bee</td>\n",
       "      <td>01d2404d4c</td>\n",
       "      <td>31471</td>\n",
       "      <td>21530</td>\n",
       "    </tr>\n",
       "    <tr>\n",
       "      <th>1</th>\n",
       "      <td>0006246bee</td>\n",
       "      <td>03d43fdf92</td>\n",
       "      <td>31471</td>\n",
       "      <td>5449</td>\n",
       "    </tr>\n",
       "    <tr>\n",
       "      <th>2</th>\n",
       "      <td>0006246bee</td>\n",
       "      <td>0808a9666b</td>\n",
       "      <td>31471</td>\n",
       "      <td>24104</td>\n",
       "    </tr>\n",
       "    <tr>\n",
       "      <th>3</th>\n",
       "      <td>0006246bee</td>\n",
       "      <td>0a5d7dd6f6</td>\n",
       "      <td>31471</td>\n",
       "      <td>26480</td>\n",
       "    </tr>\n",
       "    <tr>\n",
       "      <th>4</th>\n",
       "      <td>0006246bee</td>\n",
       "      <td>0bab4a8104</td>\n",
       "      <td>31471</td>\n",
       "      <td>32061</td>\n",
       "    </tr>\n",
       "  </tbody>\n",
       "</table>\n",
       "</div>"
      ],
      "text/plain": [
       "       UserId      ItemId  UserIndex  ItemIndex\n",
       "0  0006246bee  01d2404d4c      31471      21530\n",
       "1  0006246bee  03d43fdf92      31471       5449\n",
       "2  0006246bee  0808a9666b      31471      24104\n",
       "3  0006246bee  0a5d7dd6f6      31471      26480\n",
       "4  0006246bee  0bab4a8104      31471      32061"
      ]
     },
     "execution_count": 6,
     "metadata": {},
     "output_type": "execute_result"
    }
   ],
   "source": [
    "targets = pd.read_csv(\"targets.csv\")\n",
    "targets = targets.assign(UserIndex=targets[\"UserId\"].map(user_indexes))\n",
    "targets = targets.assign(ItemIndex=targets[\"ItemId\"].map(item_indexes))\n",
    "targets.head()"
   ]
  },
  {
   "cell_type": "code",
   "execution_count": 7,
   "metadata": {},
   "outputs": [
    {
     "data": {
      "text/html": [
       "<div>\n",
       "<style scoped>\n",
       "    .dataframe tbody tr th:only-of-type {\n",
       "        vertical-align: middle;\n",
       "    }\n",
       "\n",
       "    .dataframe tbody tr th {\n",
       "        vertical-align: top;\n",
       "    }\n",
       "\n",
       "    .dataframe thead th {\n",
       "        text-align: right;\n",
       "    }\n",
       "</style>\n",
       "<table border=\"1\" class=\"dataframe\">\n",
       "  <thead>\n",
       "    <tr style=\"text-align: right;\">\n",
       "      <th></th>\n",
       "      <th>UserId</th>\n",
       "      <th>ItemId</th>\n",
       "      <th>UserIndex</th>\n",
       "      <th>ItemIndex</th>\n",
       "      <th>Score</th>\n",
       "    </tr>\n",
       "  </thead>\n",
       "  <tbody>\n",
       "    <tr>\n",
       "      <th>44</th>\n",
       "      <td>0006246bee</td>\n",
       "      <td>80d1dae630</td>\n",
       "      <td>31471</td>\n",
       "      <td>32134</td>\n",
       "      <td>3.268374</td>\n",
       "    </tr>\n",
       "    <tr>\n",
       "      <th>50</th>\n",
       "      <td>0006246bee</td>\n",
       "      <td>899610035b</td>\n",
       "      <td>31471</td>\n",
       "      <td>23692</td>\n",
       "      <td>0.222983</td>\n",
       "    </tr>\n",
       "    <tr>\n",
       "      <th>60</th>\n",
       "      <td>0006246bee</td>\n",
       "      <td>ade4907055</td>\n",
       "      <td>31471</td>\n",
       "      <td>30153</td>\n",
       "      <td>-0.088180</td>\n",
       "    </tr>\n",
       "    <tr>\n",
       "      <th>12</th>\n",
       "      <td>0006246bee</td>\n",
       "      <td>1e5bdbcb76</td>\n",
       "      <td>31471</td>\n",
       "      <td>31410</td>\n",
       "      <td>-0.318094</td>\n",
       "    </tr>\n",
       "    <tr>\n",
       "      <th>69</th>\n",
       "      <td>0006246bee</td>\n",
       "      <td>c1ee6829f5</td>\n",
       "      <td>31471</td>\n",
       "      <td>12894</td>\n",
       "      <td>-0.318922</td>\n",
       "    </tr>\n",
       "    <tr>\n",
       "      <th>...</th>\n",
       "      <td>...</td>\n",
       "      <td>...</td>\n",
       "      <td>...</td>\n",
       "      <td>...</td>\n",
       "      <td>...</td>\n",
       "    </tr>\n",
       "    <tr>\n",
       "      <th>616146</th>\n",
       "      <td>fffffe98d0</td>\n",
       "      <td>6b2efec875</td>\n",
       "      <td>29367</td>\n",
       "      <td>5482</td>\n",
       "      <td>-7.820804</td>\n",
       "    </tr>\n",
       "    <tr>\n",
       "      <th>616164</th>\n",
       "      <td>fffffe98d0</td>\n",
       "      <td>91f7cf399b</td>\n",
       "      <td>29367</td>\n",
       "      <td>10000</td>\n",
       "      <td>-7.866508</td>\n",
       "    </tr>\n",
       "    <tr>\n",
       "      <th>616126</th>\n",
       "      <td>fffffe98d0</td>\n",
       "      <td>36122c9ac8</td>\n",
       "      <td>29367</td>\n",
       "      <td>11292</td>\n",
       "      <td>-7.867714</td>\n",
       "    </tr>\n",
       "    <tr>\n",
       "      <th>616104</th>\n",
       "      <td>fffffe98d0</td>\n",
       "      <td>0a00bbe03b</td>\n",
       "      <td>29367</td>\n",
       "      <td>9053</td>\n",
       "      <td>-7.973168</td>\n",
       "    </tr>\n",
       "    <tr>\n",
       "      <th>616177</th>\n",
       "      <td>fffffe98d0</td>\n",
       "      <td>b51ef2478b</td>\n",
       "      <td>29367</td>\n",
       "      <td>26135</td>\n",
       "      <td>-8.359029</td>\n",
       "    </tr>\n",
       "  </tbody>\n",
       "</table>\n",
       "<p>616200 rows × 5 columns</p>\n",
       "</div>"
      ],
      "text/plain": [
       "            UserId      ItemId  UserIndex  ItemIndex     Score\n",
       "44      0006246bee  80d1dae630      31471      32134  3.268374\n",
       "50      0006246bee  899610035b      31471      23692  0.222983\n",
       "60      0006246bee  ade4907055      31471      30153 -0.088180\n",
       "12      0006246bee  1e5bdbcb76      31471      31410 -0.318094\n",
       "69      0006246bee  c1ee6829f5      31471      12894 -0.318922\n",
       "...            ...         ...        ...        ...       ...\n",
       "616146  fffffe98d0  6b2efec875      29367       5482 -7.820804\n",
       "616164  fffffe98d0  91f7cf399b      29367      10000 -7.866508\n",
       "616126  fffffe98d0  36122c9ac8      29367      11292 -7.867714\n",
       "616104  fffffe98d0  0a00bbe03b      29367       9053 -7.973168\n",
       "616177  fffffe98d0  b51ef2478b      29367      26135 -8.359029\n",
       "\n",
       "[616200 rows x 5 columns]"
      ]
     },
     "execution_count": 7,
     "metadata": {},
     "output_type": "execute_result"
    }
   ],
   "source": [
    "targets[\"Score\"] = model.predict(targets[\"UserIndex\"].to_numpy(), targets[\"ItemIndex\"].to_numpy(), item_features=item_features, num_threads=8)\n",
    "targets = targets.sort_values(by=[\"UserId\", \"Score\"], ascending=[True, False])\n",
    "targets"
   ]
  },
  {
   "cell_type": "code",
   "execution_count": 8,
   "metadata": {},
   "outputs": [],
   "source": [
    "targets[[\"UserId\", \"ItemId\"]].to_csv(f'./submissions/submission_{datetime.now().strftime(\"%Y%m%d_%H%M%S\")}.csv', index=False)"
   ]
  }
 ],
 "metadata": {
  "kernelspec": {
   "display_name": "recsys",
   "language": "python",
   "name": "python3"
  },
  "language_info": {
   "codemirror_mode": {
    "name": "ipython",
    "version": 3
   },
   "file_extension": ".py",
   "mimetype": "text/x-python",
   "name": "python",
   "nbconvert_exporter": "python",
   "pygments_lexer": "ipython3",
   "version": "3.10.13"
  }
 },
 "nbformat": 4,
 "nbformat_minor": 2
}
